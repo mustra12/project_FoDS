{
 "cells": [
  {
   "cell_type": "code",
   "execution_count": 4,
   "metadata": {},
   "outputs": [],
   "source": [
    "import numpy as np\n",
    "import pandas as pd\n",
    "import seaborn as sns\n",
    "import matplotlib.pyplot as plt\n",
    "import plotly.graph_objects as go\n",
    "# import scikitplot as sklpt\n",
    "import kaleido\n",
    "\n",
    "from IPython.display import display # Display of pandas dataframes\n",
    "from matplotlib import colormaps\n",
    "from plotly.subplots import make_subplots\n",
    "\n",
    "from scipy import stats\n",
    "from scipy.stats import spearmanr, chi2_contingency\n",
    "from scipy.stats import normaltest, ttest_ind\n",
    "\n",
    "from sklearn.model_selection import train_test_split\n",
    "from sklearn.preprocessing import StandardScaler\n",
    "from sklearn.linear_model import LinearRegression\n"
   ]
  },
  {
   "cell_type": "code",
   "execution_count": 5,
   "metadata": {},
   "outputs": [
    {
     "ename": "SyntaxError",
     "evalue": "invalid syntax (3261705486.py, line 3)",
     "output_type": "error",
     "traceback": [
      "\u001b[1;36m  Cell \u001b[1;32mIn[5], line 3\u001b[1;36m\u001b[0m\n\u001b[1;33m    'id' =\u001b[0m\n\u001b[1;37m         ^\u001b[0m\n\u001b[1;31mSyntaxError\u001b[0m\u001b[1;31m:\u001b[0m invalid syntax\n"
     ]
    }
   ],
   "source": [
    "data = pd.read_csv(\"..\\stroke-dataset\\healthcare-dataset-stroke-data.csv\", index_col=0, \n",
    "                   dtype= {\n",
    "        'id' : int,\n",
    "        'gender' : pd.CategoricalDtype(categories=[\"Male\", \"Female\"], ordered=False),\n",
    "        'age' : int,\n",
    "        'hypertension' : bool,\n",
    "        'heart_disease' : bool,\n",
    "        'ever_married' : \n",
    "        'work_type' : pd.CategoricalDtype(categories=[\"Private\", \"Self-employed\", \"Govt_job\"], ordered=False),\n",
    "        'Residence_type' : pd.CategoricalDtype(categories=[\"\", \"\"], ordered=False),\n",
    "        'avg_glucose_level' : float\n",
    "        'bmi' : float\n",
    "        'smoking_status' : pd.CategoricalDtype(categories=[\"Male\", \"Female\"], ordered=False),\n",
    "        'stroke' : bool\n",
    "    },\n",
    ")"
   ]
  }
 ],
 "metadata": {
  "kernelspec": {
   "display_name": "datascience",
   "language": "python",
   "name": "python3"
  },
  "language_info": {
   "codemirror_mode": {
    "name": "ipython",
    "version": 3
   },
   "file_extension": ".py",
   "mimetype": "text/x-python",
   "name": "python",
   "nbconvert_exporter": "python",
   "pygments_lexer": "ipython3",
   "version": "3.10.9"
  },
  "orig_nbformat": 4
 },
 "nbformat": 4,
 "nbformat_minor": 2
}
