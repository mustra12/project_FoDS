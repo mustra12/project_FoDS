{
 "cells": [
  {
   "cell_type": "code",
   "execution_count": 1,
   "metadata": {},
   "outputs": [],
   "source": [
    "import numpy as np # A package for scientific computing in Python, providing support for arrays and matrices, as well as a wide range of mathematical operations\n",
    "import pandas as pd # A library for data manipulation and analysis, providing data structures like DataFrames and Series to work with tabular data.\n",
    "import seaborn as sns # A data visualization library based on Matplotlib that provides a high-level interface for creating informative and attractive statistical graphics.\n",
    "import matplotlib.pyplot as plt # A plotting library for creating static, interactive, and animated visualizations in Python.\n",
    "import plotly.graph_objects as go # A package for creating interactive and dynamic visualizations in Python, including graphs, charts, and maps.\n",
    "# import scikitplot as sklpt\n",
    "import kaleido # A package for exporting static images of visualizations created with Plotly or Matplotlib.\n",
    "import warnings # A library for handling warnings and exceptions in Python.\n",
    "warnings.filterwarnings(\"ignore\")\n",
    "\n",
    "\n",
    "from IPython.display import display # A module that provides functions for displaying various types of data within the IPython environment.\n",
    "from matplotlib import colormaps # A module that provides a collection of color maps for use in visualizations.\n",
    "from plotly.subplots import make_subplots\n",
    "\n",
    "# scipy: A library for scientific computing and statistics in Python, including tools for optimization, integration, interpolation, and more.\n",
    "from scipy import stats\n",
    "from scipy.stats import spearmanr, chi2_contingency\n",
    "from scipy.stats import normaltest, ttest_ind\n",
    "\n",
    "# sklearn: A package that provides a wide range of machine learning algorithms and tools for data preprocessing, model selection, evaluation, and more.\n",
    "from sklearn.model_selection import train_test_split\n",
    "from sklearn.preprocessing import StandardScaler\n",
    "from sklearn.linear_model import LinearRegression\n",
    "\n"
   ]
  },
  {
   "cell_type": "code",
   "execution_count": 6,
   "metadata": {},
   "outputs": [],
   "source": [
    "data = pd.read_csv(\"../stroke_dataset/healthcare-dataset-stroke-data.csv\", index_col=0 #sets the first column of the CSV file as the index of the dataframe \n",
    "                   , dtype = {\n",
    "        'id' : int,\n",
    "        'gender' : 'category', # pd.CategoricalDtype(categories=[\"Male\", \"Female\"], ordered=False),\n",
    "        'age' : float,\n",
    "        'hypertension' : bool,\n",
    "        'heart_disease' : bool,\n",
    "        'ever_married' : 'category',\n",
    "        'work_type' : 'category', # pd.CategoricalDtype(categories=[\"Private\", \"Self-employed\", \"Govt_job\"], ordered=False),\n",
    "        'Residence_type' : 'category', # pd.CategoricalDtype(categories=[\"Urban\", \"Rural\"], ordered=False),\n",
    "        'avg_glucose_level' : float,\n",
    "        'bmi' : float,\n",
    "        'smoking_status' : 'category', # pd.CategoricalDtype(categories=[\"never smoked\", \"smokes\", \"formerly smoked\", \"Unknown\"], ordered=False),\n",
    "        'stroke' : bool\n",
    "    },\n",
    ")\n"
   ]
  },
  {
   "cell_type": "code",
   "execution_count": 3,
   "metadata": {},
   "outputs": [],
   "source": [
    "#data = pd.read_csv(\"../stroke_dataset/healthcare-dataset-stroke-data.csv\", index_col=0 #sets the first column of the CSV file as the index of the dataframe\n",
    "#                   )"
   ]
  },
  {
   "cell_type": "markdown",
   "metadata": {},
   "source": [
    "Tutorial 2"
   ]
  },
  {
   "cell_type": "code",
   "execution_count": 8,
   "metadata": {},
   "outputs": [
    {
     "name": "stdout",
     "output_type": "stream",
     "text": [
      "gender               category\n",
      "age                   float64\n",
      "hypertension             bool\n",
      "heart_disease            bool\n",
      "ever_married         category\n",
      "work_type            category\n",
      "Residence_type       category\n",
      "avg_glucose_level     float64\n",
      "bmi                   float64\n",
      "smoking_status       category\n",
      "stroke                   bool\n",
      "dtype: object\n",
      "shape: (5110, 11)\n",
      "       gender   age  hypertension  heart_disease ever_married      work_type  \\\n",
      "id                                                                             \n",
      "9046     Male  67.0         False           True          Yes        Private   \n",
      "51676  Female  61.0         False          False          Yes  Self-employed   \n",
      "31112    Male  80.0         False           True          Yes        Private   \n",
      "60182  Female  49.0         False          False          Yes        Private   \n",
      "1665   Female  79.0          True          False          Yes  Self-employed   \n",
      "56669    Male  81.0         False          False          Yes        Private   \n",
      "53882    Male  74.0          True           True          Yes        Private   \n",
      "10434  Female  69.0         False          False           No        Private   \n",
      "27419  Female  59.0         False          False          Yes        Private   \n",
      "60491  Female  78.0         False          False          Yes        Private   \n",
      "\n",
      "      Residence_type  avg_glucose_level   bmi   smoking_status  stroke  \n",
      "id                                                                      \n",
      "9046           Urban             228.69  36.6  formerly smoked    True  \n",
      "51676          Rural             202.21   NaN     never smoked    True  \n",
      "31112          Rural             105.92  32.5     never smoked    True  \n",
      "60182          Urban             171.23  34.4           smokes    True  \n",
      "1665           Rural             174.12  24.0     never smoked    True  \n",
      "56669          Urban             186.21  29.0  formerly smoked    True  \n",
      "53882          Rural              70.09  27.4     never smoked    True  \n",
      "10434          Urban              94.39  22.8     never smoked    True  \n",
      "27419          Rural              76.15   NaN          Unknown    True  \n",
      "60491          Urban              58.57  24.2          Unknown    True  \n",
      "missing values:  gender                 0\n",
      "age                    0\n",
      "hypertension           0\n",
      "heart_disease          0\n",
      "ever_married           0\n",
      "work_type              0\n",
      "Residence_type         0\n",
      "avg_glucose_level      0\n",
      "bmi                  201\n",
      "smoking_status         0\n",
      "stroke                 0\n",
      "dtype: int64\n",
      "               age  avg_glucose_level          bmi\n",
      "count  5110.000000        5110.000000  4909.000000\n",
      "mean     43.226614         106.147677    28.893237\n",
      "std      22.612647          45.283560     7.854067\n",
      "min       0.080000          55.120000    10.300000\n",
      "25%      25.000000          77.245000    23.500000\n",
      "50%      45.000000          91.885000    28.100000\n",
      "75%      61.000000         114.090000    33.100000\n",
      "max      82.000000         271.740000    97.600000\n",
      "Female    2994\n",
      "Male      2115\n",
      "Other        1\n",
      "Name: gender, dtype: int64\n",
      "min age:  0.08\n",
      "max age:  82.0\n",
      "mean age:  43.226614481409\n",
      "median age:  45.0\n",
      "False    4612\n",
      "True      498\n",
      "Name: hypertension, dtype: int64\n",
      "False    4834\n",
      "True      276\n",
      "Name: heart_disease, dtype: int64\n",
      "Yes    3353\n",
      "No     1757\n",
      "Name: ever_married, dtype: int64\n",
      "Private          2925\n",
      "Self-employed     819\n",
      "children          687\n",
      "Govt_job          657\n",
      "Never_worked       22\n",
      "Name: work_type, dtype: int64\n",
      "Urban    2596\n",
      "Rural    2514\n",
      "Name: Residence_type, dtype: int64\n",
      "min avg_glucose_level:  55.12\n",
      "max avg_glucose_level:  271.74\n",
      "mean avg_glucose_level:  106.1476771037182\n",
      "median avg_glucose_level:  91.88499999999999\n",
      "min bmi:  10.3\n",
      "max bmi:  97.6\n",
      "mean bmi:  28.893236911794666\n",
      "median bmi:  28.1\n",
      "never smoked       1892\n",
      "Unknown            1544\n",
      "formerly smoked     885\n",
      "smokes              789\n",
      "Name: smoking_status, dtype: int64\n",
      "False    4861\n",
      "True      249\n",
      "Name: stroke, dtype: int64\n"
     ]
    }
   ],
   "source": [
    "print(data.dtypes)\n",
    "print('shape:', data.shape)\n",
    "print(data.head(10))\n",
    "print('missing values: ', data.isna().sum())\n",
    "print(data.describe())\n",
    "# print('data types: ', data.dtypes)\n",
    "\n",
    "# gender\n",
    "print(data['gender'].value_counts())\n",
    "\n",
    "# age\n",
    "print('min age: ', data['age'].min())\n",
    "print('max age: ', data['age'].max())\n",
    "print('mean age: ', data['age'].mean())\n",
    "print('median age: ', data['age'].median())\n",
    "\n",
    "# hypertension\n",
    "print(data['hypertension'].value_counts())\n",
    "\n",
    "# heart_disease\n",
    "print(data['heart_disease'].value_counts())\n",
    "\n",
    "# ever_married\n",
    "print(data['ever_married'].value_counts())\n",
    "\n",
    "# work_type\n",
    "print(data['work_type'].value_counts())\n",
    "\n",
    "# Residence_type\n",
    "print(data['Residence_type'].value_counts())\n",
    "\n",
    "# avg_glucose_level\n",
    "print('min avg_glucose_level: ', data['avg_glucose_level'].min())\n",
    "print('max avg_glucose_level: ', data['avg_glucose_level'].max())\n",
    "print('mean avg_glucose_level: ', data['avg_glucose_level'].mean())\n",
    "print('median avg_glucose_level: ', data['avg_glucose_level'].median())\n",
    "\n",
    "# bmi\n",
    "print('min bmi: ', data['bmi'].min())\n",
    "print('max bmi: ', data['bmi'].max())\n",
    "print('mean bmi: ', data['bmi'].mean())\n",
    "print('median bmi: ', data['bmi'].median())\n",
    "\n",
    "# smoking_status\n",
    "print(data['smoking_status'].value_counts())\n",
    "\n",
    "# stroke \n",
    "print(data['stroke'].value_counts())\n",
    "\n",
    "# Use pairplot to visualize the relationships between variables\n",
    "# sns.pairplot(data, hue='stroke') bringt nüt wüu mir wei immer relationship with stroke"
   ]
  },
  {
   "cell_type": "markdown",
   "metadata": {},
   "source": [
    "Tutorial 3"
   ]
  },
  {
   "cell_type": "code",
   "execution_count": null,
   "metadata": {},
   "outputs": [],
   "source": [
    "# Subplot for all the distributions\n",
    "#fig_distributions = plt.subplot(4, 2, figsize = (12, 12))\n",
    "plt.show()\n",
    "\n",
    "# gender\n",
    "fig_gender = sns.countplot(data, x = 'gender')\n",
    "fig_gender.set(xlabel = 'Gender', ylabel = 'Counts', title = 'Gender distribution')\n",
    "plt.show()\n",
    "\n",
    "# hypertension\n",
    "fig_hypertension = sns.countplot(data, x = 'hypertension')\n",
    "fig_hypertension.set(xlabel = 'Hypertension', ylabel = 'Counts', title = 'Hypertension distribution')\n",
    "plt.show()\n",
    "\n",
    "# heart_disease\n",
    "fig_heart_disease = sns.countplot(data, x = 'heart_disease')\n",
    "fig_heart_disease.set(xlabel = 'Heart Disease', ylabel = 'Counts', title = 'Heart Disease distribution')\n",
    "plt.show()\n",
    "\n",
    "# ever_married\n",
    "fig_ever_married = sns.countplot(data, x = 'ever_married')\n",
    "fig_ever_married.set(xlabel = 'Marriage Status', ylabel = 'Counts', title = 'Marriage Status distribution')\n",
    "plt.show()\n",
    "\n",
    "# work_type\n",
    "fig_work_type = sns.countplot(data, x = 'work_type')\n",
    "fig_work_type.set(xlabel = 'Work Type', ylabel = 'Counts', title = 'Work Type distribution')\n",
    "plt.show()\n",
    "\n",
    "# Residence_type\n",
    "fig_Residence_type = sns.countplot(data, x = 'Residence_type')\n",
    "fig_Residence_type.set(xlabel = 'Residence Type', ylabel = 'Counts', title = 'Residence Type distribution')\n",
    "plt.show()\n",
    "\n",
    "# smoking_status\n",
    "fig_smoking_status = sns.countplot(data, x = 'smoking_status')\n",
    "fig_smoking_status.set(xlabel = 'Smoking Status', ylabel = 'Counts', title = 'Smoking Status distribution')\n",
    "plt.show()\n",
    "\n",
    "# stroke\n",
    "fig_stroke = sns.countplot(data, x = 'stroke')\n",
    "fig_stroke.set(xlabel = 'Stroke', ylabel = 'Counts', title = 'Stroke distribution')\n",
    "plt.show()\n"
   ]
  },
  {
   "cell_type": "code",
   "execution_count": null,
   "metadata": {},
   "outputs": [],
   "source": [
    "# age\n",
    "fig_age= sns.histplot(data, x = 'age', hue = 'stroke')\n",
    "fig_age.set(xlabel = 'Age (years)', ylabel = 'Counts', title = 'Age distribution')\n",
    "plt.show()\n",
    "\n",
    "fig_age_stroke = sns.boxplot(data, x = 'stroke', y ='age',width=0.4)\n",
    "fig_age_stroke.set(xlabel = 'Stroke', ylabel = 'Age (years)', title = 'Age split by Stroke')\n",
    "\n"
   ]
  },
  {
   "cell_type": "code",
   "execution_count": null,
   "metadata": {},
   "outputs": [],
   "source": [
    "# avg_glucose_level\n",
    "fig_avg_glucose_level = sns.histplot(data, x = 'avg_glucose_level', hue = 'stroke')\n",
    "fig_avg_glucose_level.set(xlabel = 'Average glucose level (???)', ylabel = 'Count', title = 'Average Glucose Level Distribution split by Stroke')\n",
    "plt.show()\n",
    "\n",
    "fig_avg_glucose_level = sns.boxplot(data, x = 'stroke', y ='avg_glucose_level',width=0.4)\n",
    "fig_avg_glucose_level.set(xlabel = 'Stroke', ylabel = 'Average glucose level (???)', title = 'Average Glucose Level split by Stroke')\n"
   ]
  },
  {
   "cell_type": "code",
   "execution_count": null,
   "metadata": {},
   "outputs": [],
   "source": [
    "# bmi\n",
    "fig_bmi = sns.histplot(data, x = 'bmi', hue = 'stroke')\n",
    "fig_bmi.set(xlabel = 'BMI (kg.m^-2)', ylabel = 'Counts', title = 'BMI distribution')\n",
    "plt.show()\n",
    "\n",
    "fig_bmi_stroke = sns.boxplot(data, x = 'stroke', y ='bmi',width=0.4)\n",
    "fig_bmi_stroke.set(xlabel = 'Stroke', ylabel = 'BMI (kg.m^-2)', title = 'BMI split by Stroke')\n"
   ]
  },
  {
   "cell_type": "markdown",
   "metadata": {},
   "source": [
    "Tutorial 4"
   ]
  },
  {
   "cell_type": "code",
   "execution_count": null,
   "metadata": {},
   "outputs": [],
   "source": []
  },
  {
   "cell_type": "markdown",
   "metadata": {},
   "source": [
    "Tutorial 5"
   ]
  },
  {
   "cell_type": "code",
   "execution_count": null,
   "metadata": {},
   "outputs": [],
   "source": []
  },
  {
   "cell_type": "markdown",
   "metadata": {},
   "source": [
    "Tutorial 6"
   ]
  },
  {
   "cell_type": "code",
   "execution_count": null,
   "metadata": {},
   "outputs": [],
   "source": []
  },
  {
   "cell_type": "markdown",
   "metadata": {},
   "source": [
    "Tutorial 7"
   ]
  },
  {
   "cell_type": "code",
   "execution_count": null,
   "metadata": {},
   "outputs": [],
   "source": []
  },
  {
   "cell_type": "markdown",
   "metadata": {},
   "source": [
    "Tutorial 8"
   ]
  },
  {
   "cell_type": "code",
   "execution_count": null,
   "metadata": {},
   "outputs": [],
   "source": []
  },
  {
   "cell_type": "markdown",
   "metadata": {},
   "source": [
    "Tutorial 9"
   ]
  }
 ],
 "metadata": {
  "kernelspec": {
   "display_name": "Python 3 (ipykernel)",
   "language": "python",
   "name": "python3"
  },
  "language_info": {
   "codemirror_mode": {
    "name": "ipython",
    "version": 3
   },
   "file_extension": ".py",
   "mimetype": "text/x-python",
   "name": "python",
   "nbconvert_exporter": "python",
   "pygments_lexer": "ipython3",
   "version": "3.9.0"
  }
 },
 "nbformat": 4,
 "nbformat_minor": 2
}
